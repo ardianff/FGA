{
 "cells": [
  {
   "cell_type": "code",
   "execution_count": 4,
   "id": "c5a4f79e",
   "metadata": {},
   "outputs": [
    {
     "name": "stdout",
     "output_type": "stream",
     "text": [
      "Collecting pysqlite3Note: you may need to restart the kernel to use updated packages.\n"
     ]
    },
    {
     "name": "stderr",
     "output_type": "stream",
     "text": [
      "  WARNING: Legacy build of wheel for 'pysqlite3' created no files.\n",
      "  Command arguments: 'D:\\Instalan\\Anaconda3\\python.exe' -u -c 'import sys, setuptools, tokenize; sys.argv[0] = '\"'\"'C:\\\\Users\\\\Ardian\\\\AppData\\\\Local\\\\Temp\\\\pip-install-aln899ys\\\\pysqlite3_98772d1ed4ea4abb91627cefb74369f4\\\\setup.py'\"'\"'; __file__='\"'\"'C:\\\\Users\\\\Ardian\\\\AppData\\\\Local\\\\Temp\\\\pip-install-aln899ys\\\\pysqlite3_98772d1ed4ea4abb91627cefb74369f4\\\\setup.py'\"'\"';f=getattr(tokenize, '\"'\"'open'\"'\"', open)(__file__);code=f.read().replace('\"'\"'\\r\\n'\"'\"', '\"'\"'\\n'\"'\"');f.close();exec(compile(code, __file__, '\"'\"'exec'\"'\"'))' bdist_wheel -d 'C:\\Users\\Ardian\\AppData\\Local\\Temp\\pip-wheel-6gxnf3qs'\n",
      "  Command output: [use --verbose to show]\n"
     ]
    },
    {
     "name": "stdout",
     "output_type": "stream",
     "text": [
      "\n",
      "  Downloading pysqlite3-0.4.6.tar.gz (40 kB)\n",
      "Building wheels for collected packages: pysqlite3\n",
      "  Building wheel for pysqlite3 (setup.py): started\n",
      "  Building wheel for pysqlite3 (setup.py): finished with status 'done'\n",
      "  Running setup.py clean for pysqlite3\n",
      "Failed to build pysqlite3\n",
      "Installing collected packages: pysqlite3\n",
      "    Running setup.py install for pysqlite3: started\n",
      "    Running setup.py install for pysqlite3: finished with status 'done'\n",
      "Successfully installed pysqlite3\n"
     ]
    }
   ],
   "source": [
    "pip install pysqlite3 "
   ]
  },
  {
   "cell_type": "code",
   "execution_count": 6,
   "id": "e22a214e",
   "metadata": {},
   "outputs": [
    {
     "name": "stdout",
     "output_type": "stream",
     "text": [
      "Collecting csvkit\n",
      "  Downloading csvkit-1.0.6-py2.py3-none-any.whl (42 kB)\n",
      "Collecting agate-dbf>=0.2.0\n",
      "  Downloading agate-dbf-0.2.2.tar.gz (2.9 kB)\n",
      "Collecting agate-excel>=0.2.2\n",
      "  Downloading agate_excel-0.2.5-py2.py3-none-any.whl (7.1 kB)\n",
      "Requirement already satisfied: setuptools in d:\\instalan\\anaconda3\\lib\\site-packages (from csvkit) (52.0.0.post20210125)\n",
      "Collecting agate-sql>=0.5.3\n",
      "  Downloading agate_sql-0.5.7-py2.py3-none-any.whl (7.1 kB)\n",
      "Requirement already satisfied: six>=1.6.1 in d:\\instalan\\anaconda3\\lib\\site-packages (from csvkit) (1.15.0)\n",
      "Collecting agate>=1.6.1\n",
      "  Downloading agate-1.6.3-py2.py3-none-any.whl (100 kB)\n",
      "Collecting leather>=0.3.2\n",
      "  Downloading leather-0.3.3-py3-none-any.whl (35 kB)\n",
      "Collecting parsedatetime!=2.5,!=2.6,>=2.1\n",
      "  Downloading parsedatetime-2.4.tar.gz (58 kB)\n",
      "Collecting pytimeparse>=1.1.5\n",
      "  Downloading pytimeparse-1.1.8-py2.py3-none-any.whl (10.0 kB)\n",
      "Collecting isodate>=0.5.4\n",
      "  Downloading isodate-0.6.0-py2.py3-none-any.whl (45 kB)\n",
      "Requirement already satisfied: Babel>=2.0 in d:\\instalan\\anaconda3\\lib\\site-packages (from agate>=1.6.1->csvkit) (2.9.0)\n",
      "Collecting python-slugify>=1.2.1\n",
      "  Downloading python_slugify-5.0.2-py2.py3-none-any.whl (6.7 kB)\n",
      "Collecting dbfread>=2.0.5\n",
      "  Downloading dbfread-2.0.7-py2.py3-none-any.whl (20 kB)\n",
      "Requirement already satisfied: openpyxl>=2.3.0 in d:\\instalan\\anaconda3\\lib\\site-packages (from agate-excel>=0.2.2->csvkit) (3.0.7)\n",
      "Requirement already satisfied: xlrd>=0.9.4 in d:\\instalan\\anaconda3\\lib\\site-packages (from agate-excel>=0.2.2->csvkit) (2.0.1)\n",
      "Requirement already satisfied: olefile in d:\\instalan\\anaconda3\\lib\\site-packages (from agate-excel>=0.2.2->csvkit) (0.46)\n",
      "Requirement already satisfied: sqlalchemy>=1.0.8 in d:\\instalan\\anaconda3\\lib\\site-packages (from agate-sql>=0.5.3->csvkit) (1.4.7)\n",
      "Requirement already satisfied: pytz>=2015.7 in d:\\instalan\\anaconda3\\lib\\site-packages (from Babel>=2.0->agate>=1.6.1->csvkit) (2021.1)\n",
      "Requirement already satisfied: et-xmlfile in d:\\instalan\\anaconda3\\lib\\site-packages (from openpyxl>=2.3.0->agate-excel>=0.2.2->csvkit) (1.0.1)\n",
      "Requirement already satisfied: future in d:\\instalan\\anaconda3\\lib\\site-packages (from parsedatetime!=2.5,!=2.6,>=2.1->agate>=1.6.1->csvkit) (0.18.2)\n",
      "Collecting text-unidecode>=1.3\n",
      "  Using cached text_unidecode-1.3-py2.py3-none-any.whl (78 kB)\n",
      "Requirement already satisfied: greenlet!=0.4.17 in d:\\instalan\\anaconda3\\lib\\site-packages (from sqlalchemy>=1.0.8->agate-sql>=0.5.3->csvkit) (1.0.0)\n",
      "Building wheels for collected packages: agate-dbf, parsedatetime\n",
      "  Building wheel for agate-dbf (setup.py): started\n",
      "  Building wheel for agate-dbf (setup.py): finished with status 'done'\n",
      "  Created wheel for agate-dbf: filename=agate_dbf-0.2.2-py2.py3-none-any.whl size=3514 sha256=b9a9198b5862176ecc963233c6bd1ca66f169c6d7cf50c004453341a82b3fb25\n",
      "  Stored in directory: c:\\users\\ardian\\appdata\\local\\pip\\cache\\wheels\\be\\5c\\a3\\9351b80a4df859748256180214352b775ced43c5a36e92cf02\n",
      "  Building wheel for parsedatetime (setup.py): started\n",
      "  Building wheel for parsedatetime (setup.py): finished with status 'done'\n",
      "  Created wheel for parsedatetime: filename=parsedatetime-2.4-py3-none-any.whl size=42747 sha256=59541bd6568eb77471723f1966ceada4dbcd5b32c358900601f158d7eeba2a46\n",
      "Note: you may need to restart the kernel to use updated packages.  Stored in directory: c:\\users\\ardian\\appdata\\local\\pip\\cache\\wheels\\e5\\2b\\42\\2b5388ce43276783c42176a76229c21f74e4433a8e2a0daae6\n",
      "Successfully built agate-dbf parsedatetime\n",
      "Installing collected packages: text-unidecode, pytimeparse, python-slugify, parsedatetime, leather, isodate, dbfread, agate, agate-sql, agate-excel, agate-dbf, csvkit\n",
      "Successfully installed agate-1.6.3 agate-dbf-0.2.2 agate-excel-0.2.5 agate-sql-0.5.7 csvkit-1.0.6 dbfread-2.0.7 isodate-0.6.0 leather-0.3.3 parsedatetime-2.4 python-slugify-5.0.2 pytimeparse-1.1.8 text-unidecode-1.3\n",
      "\n"
     ]
    }
   ],
   "source": [
    "pip install csvkit"
   ]
  },
  {
   "cell_type": "code",
   "execution_count": 8,
   "id": "dad21900",
   "metadata": {},
   "outputs": [],
   "source": [
    "#$sqlite3 InternetSpeed.db \".databases\""
   ]
  },
  {
   "cell_type": "code",
   "execution_count": null,
   "id": "cc25c7bc",
   "metadata": {},
   "outputs": [],
   "source": []
  }
 ],
 "metadata": {
  "kernelspec": {
   "display_name": "Python 3",
   "language": "python",
   "name": "python3"
  },
  "language_info": {
   "codemirror_mode": {
    "name": "ipython",
    "version": 3
   },
   "file_extension": ".py",
   "mimetype": "text/x-python",
   "name": "python",
   "nbconvert_exporter": "python",
   "pygments_lexer": "ipython3",
   "version": "3.8.8"
  }
 },
 "nbformat": 4,
 "nbformat_minor": 5
}
