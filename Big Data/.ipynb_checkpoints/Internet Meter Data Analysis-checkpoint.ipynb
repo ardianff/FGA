{
 "cells": [
  {
   "cell_type": "code",
   "execution_count": 1,
   "id": "f51be3c3",
   "metadata": {},
   "outputs": [
    {
     "name": "stdout",
     "output_type": "stream",
     "text": [
      "Requirement already satisfied: speedtest-cli in d:\\instalan\\anaconda3\\lib\\site-packages (2.1.3)\n",
      "Note: you may need to restart the kernel to use updated packages.\n"
     ]
    }
   ],
   "source": [
    "pip install speedtest-cli"
   ]
  },
  {
   "cell_type": "code",
   "execution_count": 2,
   "id": "6d915ce0",
   "metadata": {},
   "outputs": [],
   "source": [
    "import datetime\n",
    "import csv\n",
    "import subprocess"
   ]
  },
  {
   "cell_type": "code",
   "execution_count": 3,
   "id": "8776da8e",
   "metadata": {},
   "outputs": [
    {
     "name": "stdout",
     "output_type": "stream",
     "text": [
      "2021-08-28 15:56:21.226810 <class 'datetime.datetime'>\n"
     ]
    }
   ],
   "source": [
    "date_time = datetime.datetime.now()\n",
    "print(date_time, type(date_time))"
   ]
  },
  {
   "cell_type": "code",
   "execution_count": 4,
   "id": "8f52ec17",
   "metadata": {},
   "outputs": [
    {
     "data": {
      "text/plain": [
       "'Sat, 28 Aug 2021 15:56:21'"
      ]
     },
     "execution_count": 4,
     "metadata": {},
     "output_type": "execute_result"
    }
   ],
   "source": [
    "date_time.strftime('%a, %d %b %Y %H:%M:%S')"
   ]
  },
  {
   "cell_type": "code",
   "execution_count": 5,
   "id": "28f55589",
   "metadata": {},
   "outputs": [],
   "source": [
    "date_time = datetime.datetime.now().strftime(\"%Y-%m-%d %H:%M:%S\")"
   ]
  },
  {
   "cell_type": "code",
   "execution_count": 6,
   "id": "c5a00ff3",
   "metadata": {},
   "outputs": [],
   "source": [
    "# Code cell 6\n",
    "# This string contains the command line to interface with speedtest.net\n",
    "speedtest_cmd = \"speedtest-cli --simple\"\n",
    "# Execute the process\n",
    "process = subprocess.Popen(speedtest_cmd.split(), stdout=subprocess.PIPE)\n",
    "# Collect the command output\n",
    "process_output = process.communicate()[0]"
   ]
  },
  {
   "cell_type": "code",
   "execution_count": 7,
   "id": "e8cd0da7",
   "metadata": {},
   "outputs": [
    {
     "name": "stdout",
     "output_type": "stream",
     "text": [
      "b'Ping: 20.406 ms\\r\\nDownload: 36.31 Mbit/s\\r\\nUpload: 11.76 Mbit/s\\r\\n' <class 'bytes'>\n"
     ]
    }
   ],
   "source": [
    "# Code cell 7\n",
    "print(process_output, type(process_output))"
   ]
  },
  {
   "cell_type": "code",
   "execution_count": 8,
   "id": "d3dc3390",
   "metadata": {},
   "outputs": [
    {
     "name": "stdout",
     "output_type": "stream",
     "text": [
      "[b'Ping:', b'20.406', b'ms', b'Download:', b'36.31', b'Mbit/s', b'Upload:', b'11.76', b'Mbit/s', '2021-08-28 15:56:43'] <class 'list'>\n"
     ]
    }
   ],
   "source": [
    "# Code cell 8\n",
    "# Store the time at which the speedtest was executed\n",
    "date_time = datetime.datetime.now().strftime(\"%Y-%m-%d %H:%M:%S\")\n",
    "process_output = process_output.split()\n",
    "process_output.append(date_time)\n",
    "print(process_output, type(process_output))"
   ]
  },
  {
   "cell_type": "code",
   "execution_count": 9,
   "id": "28b0352f",
   "metadata": {},
   "outputs": [],
   "source": [
    "# Code cell 9\n",
    "# function to excute the speed test\n",
    "def speedtest():\n",
    "    # We need to store the time at which the speedtest was executed\n",
    "    date_time = datetime.datetime.now().strftime(\"%Y-%m-%d %H:%M:%S\")\n",
    "    # This is a string that contains what we would write on the command line \n",
    "    #to interface with speedtest.net\n",
    "    speedtest_cmd = \"speedtest-cli --simple\"\n",
    "    # We now execute the process: \n",
    "    process = subprocess.Popen(speedtest_cmd.split(), stdout=subprocess.PIPE)\n",
    "    process_output = process.communicate()[0]\n",
    "    process_output = process_output.split()\n",
    "    # and we add the date and time \n",
    "    process_output.append(date_time)\n",
    "    return process_output"
   ]
  },
  {
   "cell_type": "code",
   "execution_count": 10,
   "id": "8c17a1c8",
   "metadata": {},
   "outputs": [
    {
     "name": "stdout",
     "output_type": "stream",
     "text": [
      "[b'Ping:', b'22.796', b'ms', b'Download:', b'41.44', b'Mbit/s', b'Upload:', b'11.45', b'Mbit/s', '2021-08-28 15:56:43']\n"
     ]
    }
   ],
   "source": [
    "print(speedtest())"
   ]
  },
  {
   "cell_type": "code",
   "execution_count": 11,
   "id": "7846d8fa",
   "metadata": {},
   "outputs": [],
   "source": [
    "# Code cell 11\n",
    "with open(\"C:/Users/Ardian/Music/tmp/test.txt\",'w') as f:\n",
    "    f.write('test_msg')"
   ]
  },
  {
   "cell_type": "code",
   "execution_count": 12,
   "id": "141a6dd1",
   "metadata": {},
   "outputs": [],
   "source": [
    "# Code cell 12\n",
    "# !cat C:/Users/Ardian/Music/tmp/test.txt"
   ]
  },
  {
   "cell_type": "code",
   "execution_count": 13,
   "id": "b5884e75",
   "metadata": {},
   "outputs": [
    {
     "name": "stdout",
     "output_type": "stream",
     "text": [
      "test_msg\n"
     ]
    }
   ],
   "source": [
    "with open(\"C:/Users/Ardian/Music/tmp/test.txt\",'r') as f:\n",
    "   str = f.read()\n",
    "print(str)"
   ]
  },
  {
   "cell_type": "code",
   "execution_count": 14,
   "id": "45196731",
   "metadata": {},
   "outputs": [],
   "source": [
    "# Code cell 14\n",
    "# function to save data to csv\n",
    "def save_to_csv(data, filename):\n",
    "    try:\n",
    "        # If the file exists, we want to append a new line to it, with the \n",
    "        #results of the current experiment\n",
    "        with open(filename + '.csv', 'a') as f:\n",
    "            wr = csv.writer(f)\n",
    "            wr.writerow(data)\n",
    "    except:\n",
    "        # If it does not exist, create the file first\n",
    "        with open(filename + '.csv', 'w') as f:\n",
    "            # Hint: This is similar to appending new lines to a file.\n",
    "            # Create a csv writer object\n",
    "            wr = csv.writer(f)\n",
    "            wr.writerow(data)\n",
    "            # Save (write) to file\n",
    "            f.write(wr)\n",
    "            # ADD CODE HERE"
   ]
  },
  {
   "cell_type": "code",
   "execution_count": 18,
   "id": "1a14da16",
   "metadata": {},
   "outputs": [],
   "source": [
    "def print_from_csv(filename): \n",
    "    with open(filename + '.csv', 'r') as f:\n",
    "        re = csv.reader(f)\n",
    "        for row in re:\n",
    "            print(row)"
   ]
  },
  {
   "cell_type": "code",
   "execution_count": 16,
   "id": "db180254",
   "metadata": {},
   "outputs": [
    {
     "name": "stdout",
     "output_type": "stream",
     "text": [
      "Test number 0\n",
      "[b'Ping:', b'23.079', b'ms', b'Download:', b'41.35', b'Mbit/s', b'Upload:', b'12.44', b'Mbit/s', '2021-08-28 15:57:05']\n",
      "Test number 1\n",
      "[b'Ping:', b'21.979', b'ms', b'Download:', b'42.95', b'Mbit/s', b'Upload:', b'11.52', b'Mbit/s', '2021-08-28 15:57:29']\n",
      "Test number 2\n",
      "[b'Ping:', b'22.955', b'ms', b'Download:', b'35.41', b'Mbit/s', b'Upload:', b'11.18', b'Mbit/s', '2021-08-28 15:57:51']\n",
      "Test number 3\n",
      "[b'Ping:', b'24.059', b'ms', b'Download:', b'39.62', b'Mbit/s', b'Upload:', b'11.28', b'Mbit/s', '2021-08-28 15:58:14']\n",
      "Test number 4\n",
      "[b'Ping:', b'23.171', b'ms', b'Download:', b'31.38', b'Mbit/s', b'Upload:', b'12.23', b'Mbit/s', '2021-08-28 15:58:38']\n"
     ]
    }
   ],
   "source": [
    "for i in range(5):\n",
    "    speedtest_output = speedtest()\n",
    "    print('Test number {}'.format(i))\n",
    "    print(speedtest_output)\n",
    "    save_to_csv(speedtest_output, 'C:/Users/Ardian/Music/tmp/rpi_data_test')"
   ]
  },
  {
   "cell_type": "code",
   "execution_count": 19,
   "id": "688a60fd",
   "metadata": {},
   "outputs": [
    {
     "name": "stdout",
     "output_type": "stream",
     "text": [
      "[\"b'Ping:'\", \"b'23.079'\", \"b'ms'\", \"b'Download:'\", \"b'41.35'\", \"b'Mbit/s'\", \"b'Upload:'\", \"b'12.44'\", \"b'Mbit/s'\", '2021-08-28 15:57:05']\n",
      "[]\n",
      "[\"b'Ping:'\", \"b'21.979'\", \"b'ms'\", \"b'Download:'\", \"b'42.95'\", \"b'Mbit/s'\", \"b'Upload:'\", \"b'11.52'\", \"b'Mbit/s'\", '2021-08-28 15:57:29']\n",
      "[]\n",
      "[\"b'Ping:'\", \"b'22.955'\", \"b'ms'\", \"b'Download:'\", \"b'35.41'\", \"b'Mbit/s'\", \"b'Upload:'\", \"b'11.18'\", \"b'Mbit/s'\", '2021-08-28 15:57:51']\n",
      "[]\n",
      "[\"b'Ping:'\", \"b'24.059'\", \"b'ms'\", \"b'Download:'\", \"b'39.62'\", \"b'Mbit/s'\", \"b'Upload:'\", \"b'11.28'\", \"b'Mbit/s'\", '2021-08-28 15:58:14']\n",
      "[]\n",
      "[\"b'Ping:'\", \"b'23.171'\", \"b'ms'\", \"b'Download:'\", \"b'31.38'\", \"b'Mbit/s'\", \"b'Upload:'\", \"b'12.23'\", \"b'Mbit/s'\", '2021-08-28 15:58:38']\n",
      "[]\n"
     ]
    }
   ],
   "source": [
    "print_from_csv('C:/Users/Ardian/Music/tmp/rpi_data_test')"
   ]
  },
  {
   "cell_type": "code",
   "execution_count": 22,
   "id": "3ab52df7",
   "metadata": {
    "scrolled": false
   },
   "outputs": [
    {
     "name": "stdout",
     "output_type": "stream",
     "text": [
      "Test number: 0\n",
      "[b'Ping:', b'22.245', b'ms', b'Download:', b'41.59', b'Mbit/s', b'Upload:', b'11.66', b'Mbit/s', '2021-08-28 16:03:10']\n",
      "Test number: 1\n",
      "[b'Ping:', b'21.862', b'ms', b'Download:', b'31.18', b'Mbit/s', b'Upload:', b'10.98', b'Mbit/s', '2021-08-28 16:03:33']\n",
      "Test number: 2\n",
      "[b'Ping:', b'22.975', b'ms', b'Download:', b'41.79', b'Mbit/s', b'Upload:', b'12.36', b'Mbit/s', '2021-08-28 16:03:57']\n",
      "Test number: 3\n",
      "[b'Ping:', b'22.802', b'ms', b'Download:', b'42.63', b'Mbit/s', b'Upload:', b'11.16', b'Mbit/s', '2021-08-28 16:04:21']\n",
      "Test number: 4\n",
      "[b'Ping:', b'23.272', b'ms', b'Download:', b'42.93', b'Mbit/s', b'Upload:', b'12.44', b'Mbit/s', '2021-08-28 16:04:43']\n",
      "Test number: 5\n",
      "[b'Ping:', b'26.265', b'ms', b'Download:', b'43.32', b'Mbit/s', b'Upload:', b'12.21', b'Mbit/s', '2021-08-28 16:05:06']\n",
      "Test number: 6\n",
      "[b'Ping:', b'20.375', b'ms', b'Download:', b'43.13', b'Mbit/s', b'Upload:', b'13.35', b'Mbit/s', '2021-08-28 16:05:28']\n",
      "Test number: 7\n",
      "[b'Ping:', b'22.807', b'ms', b'Download:', b'42.20', b'Mbit/s', b'Upload:', b'12.20', b'Mbit/s', '2021-08-28 16:05:50']\n",
      "Test number: 8\n",
      "[b'Ping:', b'24.128', b'ms', b'Download:', b'43.63', b'Mbit/s', b'Upload:', b'11.76', b'Mbit/s', '2021-08-28 16:06:13']\n",
      "Test number: 9\n",
      "[b'Ping:', b'22.862', b'ms', b'Download:', b'40.79', b'Mbit/s', b'Upload:', b'11.52', b'Mbit/s', '2021-08-28 16:06:36']\n",
      "Test number: 10\n",
      "[b'Ping:', b'22.821', b'ms', b'Download:', b'41.56', b'Mbit/s', b'Upload:', b'12.58', b'Mbit/s', '2021-08-28 16:06:59']\n",
      "Test number: 11\n",
      "[b'Ping:', b'25.655', b'ms', b'Download:', b'39.58', b'Mbit/s', b'Upload:', b'12.84', b'Mbit/s', '2021-08-28 16:07:22']\n",
      "Test number: 12\n",
      "[b'Ping:', b'29.196', b'ms', b'Download:', b'41.24', b'Mbit/s', b'Upload:', b'12.08', b'Mbit/s', '2021-08-28 16:07:44']\n",
      "Test number: 13\n",
      "[b'Ping:', b'24.103', b'ms', b'Download:', b'41.93', b'Mbit/s', b'Upload:', b'11.53', b'Mbit/s', '2021-08-28 16:08:06']\n",
      "Test number: 14\n",
      "[b'Ping:', b'22.638', b'ms', b'Download:', b'40.57', b'Mbit/s', b'Upload:', b'12.51', b'Mbit/s', '2021-08-28 16:08:29']\n",
      "Test number: 15\n",
      "[b'Ping:', b'23.376', b'ms', b'Download:', b'42.27', b'Mbit/s', b'Upload:', b'12.32', b'Mbit/s', '2021-08-28 16:08:51']\n",
      "Test number: 16\n",
      "[b'Ping:', b'22.581', b'ms', b'Download:', b'39.00', b'Mbit/s', b'Upload:', b'11.91', b'Mbit/s', '2021-08-28 16:09:14']\n",
      "Test number: 17\n",
      "[b'Ping:', b'23.03', b'ms', b'Download:', b'41.54', b'Mbit/s', b'Upload:', b'11.64', b'Mbit/s', '2021-08-28 16:09:36']\n",
      "Test number: 18\n",
      "[b'Ping:', b'22.652', b'ms', b'Download:', b'41.36', b'Mbit/s', b'Upload:', b'12.31', b'Mbit/s', '2021-08-28 16:10:00']\n",
      "Test number: 19\n",
      "[b'Ping:', b'23.586', b'ms', b'Download:', b'41.49', b'Mbit/s', b'Upload:', b'12.33', b'Mbit/s', '2021-08-28 16:10:22']\n",
      "Test number: 20\n",
      "[b'Ping:', b'39.176', b'ms', b'Download:', b'40.39', b'Mbit/s', b'Upload:', b'8.49', b'Mbit/s', '2021-08-28 16:10:44']\n",
      "Test number: 21\n",
      "[b'Ping:', b'28.304', b'ms', b'Download:', b'41.59', b'Mbit/s', b'Upload:', b'12.21', b'Mbit/s', '2021-08-28 16:11:07']\n",
      "Test number: 22\n",
      "[b'Ping:', b'24.755', b'ms', b'Download:', b'43.17', b'Mbit/s', b'Upload:', b'11.90', b'Mbit/s', '2021-08-28 16:11:29']\n",
      "Test number: 23\n",
      "[b'Ping:', b'23.325', b'ms', b'Download:', b'40.11', b'Mbit/s', b'Upload:', b'11.39', b'Mbit/s', '2021-08-28 16:11:52']\n",
      "Test number: 24\n",
      "[b'Ping:', b'20.444', b'ms', b'Download:', b'42.42', b'Mbit/s', b'Upload:', b'11.52', b'Mbit/s', '2021-08-28 16:12:15']\n",
      "Test number: 25\n",
      "[b'Ping:', b'22.567', b'ms', b'Download:', b'41.96', b'Mbit/s', b'Upload:', b'12.74', b'Mbit/s', '2021-08-28 16:12:37']\n",
      "Test number: 26\n",
      "[b'Ping:', b'19.528', b'ms', b'Download:', b'42.67', b'Mbit/s', b'Upload:', b'12.52', b'Mbit/s', '2021-08-28 16:13:00']\n",
      "Test number: 27\n",
      "[b'Ping:', b'22.294', b'ms', b'Download:', b'40.50', b'Mbit/s', b'Upload:', b'12.06', b'Mbit/s', '2021-08-28 16:13:22']\n",
      "Test number: 28\n",
      "[b'Ping:', b'23.073', b'ms', b'Download:', b'40.27', b'Mbit/s', b'Upload:', b'12.51', b'Mbit/s', '2021-08-28 16:13:44']\n",
      "Test number: 29\n",
      "[b'Ping:', b'25.382', b'ms', b'Download:', b'40.93', b'Mbit/s', b'Upload:', b'12.73', b'Mbit/s', '2021-08-28 16:14:06']\n",
      "Test number: 30\n",
      "[b'Ping:', b'24.836', b'ms', b'Download:', b'40.87', b'Mbit/s', b'Upload:', b'12.15', b'Mbit/s', '2021-08-28 16:14:29']\n",
      "Test number: 31\n",
      "[b'Ping:', b'25.624', b'ms', b'Download:', b'43.67', b'Mbit/s', b'Upload:', b'12.60', b'Mbit/s', '2021-08-28 16:14:51']\n",
      "Test number: 32\n",
      "[b'Ping:', b'25.303', b'ms', b'Download:', b'39.65', b'Mbit/s', b'Upload:', b'12.19', b'Mbit/s', '2021-08-28 16:15:14']\n",
      "Test number: 33\n",
      "[b'Ping:', b'23.172', b'ms', b'Download:', b'42.02', b'Mbit/s', b'Upload:', b'12.54', b'Mbit/s', '2021-08-28 16:15:36']\n",
      "Test number: 34\n",
      "[b'Ping:', b'27.456', b'ms', b'Download:', b'42.43', b'Mbit/s', b'Upload:', b'10.96', b'Mbit/s', '2021-08-28 16:15:58']\n",
      "Test number: 35\n",
      "[b'Ping:', b'35.869', b'ms', b'Download:', b'38.99', b'Mbit/s', b'Upload:', b'12.23', b'Mbit/s', '2021-08-28 16:16:20']\n",
      "Test number: 36\n",
      "[b'Ping:', b'28.039', b'ms', b'Download:', b'41.55', b'Mbit/s', b'Upload:', b'10.11', b'Mbit/s', '2021-08-28 16:16:44']\n",
      "Test number: 37\n",
      "[b'Ping:', b'23.245', b'ms', b'Download:', b'39.51', b'Mbit/s', b'Upload:', b'8.25', b'Mbit/s', '2021-08-28 16:17:06']\n",
      "Test number: 38\n",
      "[b'Ping:', b'25.011', b'ms', b'Download:', b'40.17', b'Mbit/s', b'Upload:', b'12.47', b'Mbit/s', '2021-08-28 16:17:29']\n",
      "Test number: 39\n",
      "[b'Ping:', b'22.75', b'ms', b'Download:', b'42.71', b'Mbit/s', b'Upload:', b'12.49', b'Mbit/s', '2021-08-28 16:17:51']\n",
      "Test number: 40\n",
      "[b'Ping:', b'31.505', b'ms', b'Download:', b'28.84', b'Mbit/s', b'Upload:', b'12.01', b'Mbit/s', '2021-08-28 16:18:13']\n",
      "Test number: 41\n",
      "[b'Ping:', b'22.863', b'ms', b'Download:', b'44.23', b'Mbit/s', b'Upload:', b'11.28', b'Mbit/s', '2021-08-28 16:18:36']\n",
      "Test number: 42\n",
      "[b'Ping:', b'26.249', b'ms', b'Download:', b'40.10', b'Mbit/s', b'Upload:', b'12.41', b'Mbit/s', '2021-08-28 16:18:59']\n",
      "Test number: 43\n",
      "[b'Ping:', b'22.721', b'ms', b'Download:', b'38.60', b'Mbit/s', b'Upload:', b'12.06', b'Mbit/s', '2021-08-28 16:19:21']\n",
      "Test number: 44\n",
      "[b'Ping:', b'38.446', b'ms', b'Download:', b'34.57', b'Mbit/s', b'Upload:', b'10.21', b'Mbit/s', '2021-08-28 16:19:43']\n",
      "Test number: 45\n",
      "[b'Ping:', b'24.914', b'ms', b'Download:', b'44.55', b'Mbit/s', b'Upload:', b'13.10', b'Mbit/s', '2021-08-28 16:20:07']\n",
      "Test number: 46\n",
      "[b'Ping:', b'22.976', b'ms', b'Download:', b'42.44', b'Mbit/s', b'Upload:', b'10.43', b'Mbit/s', '2021-08-28 16:20:29']\n",
      "Test number: 47\n",
      "[b'Ping:', b'22.682', b'ms', b'Download:', b'42.23', b'Mbit/s', b'Upload:', b'12.07', b'Mbit/s', '2021-08-28 16:20:51']\n",
      "Test number: 48\n",
      "[b'Ping:', b'23.504', b'ms', b'Download:', b'40.27', b'Mbit/s', b'Upload:', b'10.81', b'Mbit/s', '2021-08-28 16:21:14']\n",
      "Test number: 49\n",
      "[b'Ping:', b'22.656', b'ms', b'Download:', b'38.79', b'Mbit/s', b'Upload:', b'12.75', b'Mbit/s', '2021-08-28 16:21:37']\n",
      "Test number: 50\n",
      "[b'Ping:', b'25.459', b'ms', b'Download:', b'42.49', b'Mbit/s', b'Upload:', b'12.11', b'Mbit/s', '2021-08-28 16:21:59']\n",
      "Test number: 51\n",
      "[b'Ping:', b'26.073', b'ms', b'Download:', b'43.86', b'Mbit/s', b'Upload:', b'12.71', b'Mbit/s', '2021-08-28 16:22:22']\n",
      "Test number: 52\n",
      "[b'Ping:', b'24.668', b'ms', b'Download:', b'43.40', b'Mbit/s', b'Upload:', b'12.82', b'Mbit/s', '2021-08-28 16:22:44']\n",
      "Test number: 53\n",
      "[b'Ping:', b'38.45', b'ms', b'Download:', b'37.04', b'Mbit/s', b'Upload:', b'10.57', b'Mbit/s', '2021-08-28 16:23:06']\n",
      "Test number: 54\n",
      "[b'Ping:', b'40.596', b'ms', b'Download:', b'43.74', b'Mbit/s', b'Upload:', b'12.38', b'Mbit/s', '2021-08-28 16:23:32']\n",
      "Test number: 55\n",
      "[b'Ping:', b'23.737', b'ms', b'Download:', b'42.74', b'Mbit/s', b'Upload:', b'12.39', b'Mbit/s', '2021-08-28 16:23:55']\n",
      "Test number: 56\n",
      "[b'Ping:', b'22.942', b'ms', b'Download:', b'44.94', b'Mbit/s', b'Upload:', b'12.38', b'Mbit/s', '2021-08-28 16:24:17']\n",
      "Test number: 57\n",
      "[b'Ping:', b'23.401', b'ms', b'Download:', b'34.76', b'Mbit/s', b'Upload:', b'10.92', b'Mbit/s', '2021-08-28 16:24:39']\n",
      "Test number: 58\n",
      "[b'Ping:', b'25.019', b'ms', b'Download:', b'38.44', b'Mbit/s', b'Upload:', b'12.48', b'Mbit/s', '2021-08-28 16:25:02']\n",
      "Test number: 59\n",
      "[b'Ping:', b'20.784', b'ms', b'Download:', b'24.29', b'Mbit/s', b'Upload:', b'12.96', b'Mbit/s', '2021-08-28 16:25:24']\n",
      "Test number: 60\n",
      "[b'Ping:', b'23.654', b'ms', b'Download:', b'45.04', b'Mbit/s', b'Upload:', b'12.30', b'Mbit/s', '2021-08-28 16:25:47']\n"
     ]
    },
    {
     "name": "stdout",
     "output_type": "stream",
     "text": [
      "Test number: 61\n",
      "[b'Ping:', b'22.57', b'ms', b'Download:', b'44.51', b'Mbit/s', b'Upload:', b'11.76', b'Mbit/s', '2021-08-28 16:26:09']\n",
      "Test number: 62\n",
      "[b'Ping:', b'25.698', b'ms', b'Download:', b'25.79', b'Mbit/s', b'Upload:', b'12.02', b'Mbit/s', '2021-08-28 16:26:33']\n",
      "Test number: 63\n",
      "[b'Ping:', b'21.608', b'ms', b'Download:', b'39.72', b'Mbit/s', b'Upload:', b'11.88', b'Mbit/s', '2021-08-28 16:26:56']\n",
      "Test number: 64\n",
      "[b'Ping:', b'28.059', b'ms', b'Download:', b'39.57', b'Mbit/s', b'Upload:', b'9.65', b'Mbit/s', '2021-08-28 16:27:18']\n",
      "Test number: 65\n",
      "[b'Ping:', b'23.686', b'ms', b'Download:', b'44.26', b'Mbit/s', b'Upload:', b'11.81', b'Mbit/s', '2021-08-28 16:27:42']\n",
      "Test number: 66\n",
      "[b'Ping:', b'18.653', b'ms', b'Download:', b'42.46', b'Mbit/s', b'Upload:', b'12.46', b'Mbit/s', '2021-08-28 16:28:05']\n",
      "Test number: 67\n",
      "[b'Ping:', b'22.909', b'ms', b'Download:', b'41.80', b'Mbit/s', b'Upload:', b'12.41', b'Mbit/s', '2021-08-28 16:28:28']\n",
      "Test number: 68\n",
      "[b'Ping:', b'20.867', b'ms', b'Download:', b'42.38', b'Mbit/s', b'Upload:', b'11.50', b'Mbit/s', '2021-08-28 16:28:50']\n",
      "Test number: 69\n",
      "[b'Ping:', b'22.47', b'ms', b'Download:', b'44.60', b'Mbit/s', b'Upload:', b'11.90', b'Mbit/s', '2021-08-28 16:29:13']\n",
      "Test number: 70\n",
      "[b'Ping:', b'23.822', b'ms', b'Download:', b'46.07', b'Mbit/s', b'Upload:', b'12.53', b'Mbit/s', '2021-08-28 16:29:35']\n",
      "Test number: 71\n",
      "[b'Ping:', b'23.308', b'ms', b'Download:', b'42.93', b'Mbit/s', b'Upload:', b'11.65', b'Mbit/s', '2021-08-28 16:29:57']\n",
      "Test number: 72\n",
      "[b'Ping:', b'36.349', b'ms', b'Download:', b'44.37', b'Mbit/s', b'Upload:', b'10.31', b'Mbit/s', '2021-08-28 16:30:19']\n",
      "Test number: 73\n",
      "[b'Ping:', b'25.145', b'ms', b'Download:', b'44.57', b'Mbit/s', b'Upload:', b'12.84', b'Mbit/s', '2021-08-28 16:30:42']\n",
      "Test number: 74\n",
      "[b'Ping:', b'20.33', b'ms', b'Download:', b'44.11', b'Mbit/s', b'Upload:', b'11.66', b'Mbit/s', '2021-08-28 16:31:04']\n",
      "Test number: 75\n",
      "[b'Ping:', b'26.617', b'ms', b'Download:', b'45.15', b'Mbit/s', b'Upload:', b'12.64', b'Mbit/s', '2021-08-28 16:31:29']\n",
      "Test number: 76\n",
      "[b'Ping:', b'20.499', b'ms', b'Download:', b'44.67', b'Mbit/s', b'Upload:', b'12.91', b'Mbit/s', '2021-08-28 16:31:51']\n",
      "Test number: 77\n",
      "[b'Ping:', b'27.81', b'ms', b'Download:', b'46.49', b'Mbit/s', b'Upload:', b'11.81', b'Mbit/s', '2021-08-28 16:32:13']\n",
      "Test number: 78\n",
      "[b'Ping:', b'23.969', b'ms', b'Download:', b'43.91', b'Mbit/s', b'Upload:', b'13.14', b'Mbit/s', '2021-08-28 16:32:36']\n",
      "Test number: 79\n",
      "[b'Ping:', b'22.707', b'ms', b'Download:', b'45.72', b'Mbit/s', b'Upload:', b'13.29', b'Mbit/s', '2021-08-28 16:32:58']\n",
      "Test number: 80\n",
      "[b'Ping:', b'22.706', b'ms', b'Download:', b'45.68', b'Mbit/s', b'Upload:', b'11.73', b'Mbit/s', '2021-08-28 16:33:20']\n",
      "Test number: 81\n",
      "[b'Ping:', b'21.958', b'ms', b'Download:', b'43.08', b'Mbit/s', b'Upload:', b'12.68', b'Mbit/s', '2021-08-28 16:33:43']\n",
      "Test number: 82\n",
      "[b'Ping:', b'24.818', b'ms', b'Download:', b'43.91', b'Mbit/s', b'Upload:', b'12.54', b'Mbit/s', '2021-08-28 16:34:05']\n",
      "Test number: 83\n",
      "[b'Ping:', b'23.183', b'ms', b'Download:', b'46.68', b'Mbit/s', b'Upload:', b'11.57', b'Mbit/s', '2021-08-28 16:34:28']\n",
      "Test number: 84\n",
      "[b'Ping:', b'20.364', b'ms', b'Download:', b'46.05', b'Mbit/s', b'Upload:', b'11.25', b'Mbit/s', '2021-08-28 16:34:51']\n",
      "Test number: 85\n",
      "[b'Ping:', b'22.971', b'ms', b'Download:', b'46.34', b'Mbit/s', b'Upload:', b'12.67', b'Mbit/s', '2021-08-28 16:35:15']\n",
      "Test number: 86\n",
      "[b'Ping:', b'23.14', b'ms', b'Download:', b'45.03', b'Mbit/s', b'Upload:', b'12.88', b'Mbit/s', '2021-08-28 16:35:38']\n",
      "Test number: 87\n",
      "[b'Ping:', b'22.882', b'ms', b'Download:', b'45.27', b'Mbit/s', b'Upload:', b'11.63', b'Mbit/s', '2021-08-28 16:36:00']\n",
      "Test number: 88\n",
      "[b'Ping:', b'23.341', b'ms', b'Download:', b'45.06', b'Mbit/s', b'Upload:', b'12.93', b'Mbit/s', '2021-08-28 16:36:22']\n",
      "Test number: 89\n",
      "[b'Ping:', b'23.014', b'ms', b'Download:', b'45.54', b'Mbit/s', b'Upload:', b'12.91', b'Mbit/s', '2021-08-28 16:36:45']\n",
      "Test number: 90\n",
      "[b'Ping:', b'23.102', b'ms', b'Download:', b'45.25', b'Mbit/s', b'Upload:', b'12.71', b'Mbit/s', '2021-08-28 16:37:07']\n",
      "Test number: 91\n",
      "[b'Ping:', b'23.353', b'ms', b'Download:', b'43.77', b'Mbit/s', b'Upload:', b'13.26', b'Mbit/s', '2021-08-28 16:37:29']\n",
      "Test number: 92\n",
      "[b'Ping:', b'22.862', b'ms', b'Download:', b'45.57', b'Mbit/s', b'Upload:', b'11.94', b'Mbit/s', '2021-08-28 16:37:51']\n",
      "Test number: 93\n",
      "[b'Ping:', b'22.48', b'ms', b'Download:', b'43.38', b'Mbit/s', b'Upload:', b'12.40', b'Mbit/s', '2021-08-28 16:38:13']\n",
      "Test number: 94\n",
      "[b'Ping:', b'23.292', b'ms', b'Download:', b'45.29', b'Mbit/s', b'Upload:', b'12.27', b'Mbit/s', '2021-08-28 16:38:36']\n",
      "Test number: 95\n",
      "[b'Ping:', b'25.605', b'ms', b'Download:', b'44.50', b'Mbit/s', b'Upload:', b'13.10', b'Mbit/s', '2021-08-28 16:38:58']\n",
      "Test number: 96\n",
      "[b'Ping:', b'22.911', b'ms', b'Download:', b'45.79', b'Mbit/s', b'Upload:', b'9.17', b'Mbit/s', '2021-08-28 16:39:20']\n",
      "Test number: 97\n",
      "[b'Ping:', b'22.993', b'ms', b'Download:', b'45.85', b'Mbit/s', b'Upload:', b'10.88', b'Mbit/s', '2021-08-28 16:39:42']\n",
      "Test number: 98\n",
      "[b'Ping:', b'23.487', b'ms', b'Download:', b'46.54', b'Mbit/s', b'Upload:', b'12.55', b'Mbit/s', '2021-08-28 16:40:06']\n",
      "Test number: 99\n",
      "[b'Ping:', b'22.182', b'ms', b'Download:', b'45.17', b'Mbit/s', b'Upload:', b'12.05', b'Mbit/s', '2021-08-28 16:40:28']\n"
     ]
    }
   ],
   "source": [
    "for i in range(100):\n",
    "    speedtest_output = speedtest()\n",
    "    print ('Test number: {}'.format(i))\n",
    "    print (speedtest_output)\n",
    "    save_to_csv(speedtest_output, 'C:/Users/Ardian/Music/tmp/rpi_data')"
   ]
  },
  {
   "cell_type": "code",
   "execution_count": 23,
   "id": "ccca865f",
   "metadata": {},
   "outputs": [],
   "source": [
    "# Code cell 19\n",
    "import datetime\n",
    "import csv\n",
    "import pandas as pd\n",
    "# NumPy is a library that adds support for large, multi-dimensional arrays and matrices\n",
    "# along with high-level mathematical functions to operate on these arrays\n",
    "import numpy as np"
   ]
  },
  {
   "cell_type": "code",
   "execution_count": null,
   "id": "44b5fe79",
   "metadata": {},
   "outputs": [],
   "source": [
    "data_file = './Data/rpi_data_long.csv'"
   ]
  }
 ],
 "metadata": {
  "kernelspec": {
   "display_name": "Python 3",
   "language": "python",
   "name": "python3"
  },
  "language_info": {
   "codemirror_mode": {
    "name": "ipython",
    "version": 3
   },
   "file_extension": ".py",
   "mimetype": "text/x-python",
   "name": "python",
   "nbconvert_exporter": "python",
   "pygments_lexer": "ipython3",
   "version": "3.8.8"
  }
 },
 "nbformat": 4,
 "nbformat_minor": 5
}
