{
 "cells": [
  {
   "cell_type": "code",
   "execution_count": 1,
   "id": "0661b8e0",
   "metadata": {},
   "outputs": [],
   "source": [
    "import pandas as pd\n",
    "import numpy as np\n",
    "import matplotlib.pyplot as plt\n",
    "from scipy import interpolate"
   ]
  },
  {
   "cell_type": "markdown",
   "id": "dbb02d4a",
   "metadata": {},
   "source": [
    "# Part 1: Learn how to Use Data as Information"
   ]
  },
  {
   "cell_type": "markdown",
   "id": "6a9309b4",
   "metadata": {},
   "source": [
    "Step 1: Describe the data."
   ]
  },
  {
   "cell_type": "code",
   "execution_count": 2,
   "id": "75a235e1",
   "metadata": {},
   "outputs": [
    {
     "data": {
      "text/html": [
       "<div>\n",
       "<style scoped>\n",
       "    .dataframe tbody tr th:only-of-type {\n",
       "        vertical-align: middle;\n",
       "    }\n",
       "\n",
       "    .dataframe tbody tr th {\n",
       "        vertical-align: top;\n",
       "    }\n",
       "\n",
       "    .dataframe thead th {\n",
       "        text-align: right;\n",
       "    }\n",
       "</style>\n",
       "<table border=\"1\" class=\"dataframe\">\n",
       "  <thead>\n",
       "    <tr style=\"text-align: right;\">\n",
       "      <th></th>\n",
       "      <th>Year</th>\n",
       "      <th>Median Age Of Males</th>\n",
       "      <th>Median Age Of Females</th>\n",
       "    </tr>\n",
       "  </thead>\n",
       "  <tbody>\n",
       "    <tr>\n",
       "      <th>0</th>\n",
       "      <td>1890</td>\n",
       "      <td>26.1</td>\n",
       "      <td>22.0</td>\n",
       "    </tr>\n",
       "    <tr>\n",
       "      <th>1</th>\n",
       "      <td>1900</td>\n",
       "      <td>25.9</td>\n",
       "      <td>21.9</td>\n",
       "    </tr>\n",
       "    <tr>\n",
       "      <th>2</th>\n",
       "      <td>1910</td>\n",
       "      <td>25.1</td>\n",
       "      <td>21.6</td>\n",
       "    </tr>\n",
       "    <tr>\n",
       "      <th>3</th>\n",
       "      <td>1920</td>\n",
       "      <td>24.6</td>\n",
       "      <td>21.2</td>\n",
       "    </tr>\n",
       "    <tr>\n",
       "      <th>4</th>\n",
       "      <td>1930</td>\n",
       "      <td>24.3</td>\n",
       "      <td>21.3</td>\n",
       "    </tr>\n",
       "    <tr>\n",
       "      <th>5</th>\n",
       "      <td>1940</td>\n",
       "      <td>24.3</td>\n",
       "      <td>21.5</td>\n",
       "    </tr>\n",
       "    <tr>\n",
       "      <th>6</th>\n",
       "      <td>1950</td>\n",
       "      <td>22.8</td>\n",
       "      <td>20.3</td>\n",
       "    </tr>\n",
       "    <tr>\n",
       "      <th>7</th>\n",
       "      <td>1960</td>\n",
       "      <td>22.8</td>\n",
       "      <td>20.3</td>\n",
       "    </tr>\n",
       "    <tr>\n",
       "      <th>8</th>\n",
       "      <td>1970</td>\n",
       "      <td>23.2</td>\n",
       "      <td>20.8</td>\n",
       "    </tr>\n",
       "    <tr>\n",
       "      <th>9</th>\n",
       "      <td>1980</td>\n",
       "      <td>24.7</td>\n",
       "      <td>22.0</td>\n",
       "    </tr>\n",
       "    <tr>\n",
       "      <th>10</th>\n",
       "      <td>1990</td>\n",
       "      <td>26.1</td>\n",
       "      <td>23.9</td>\n",
       "    </tr>\n",
       "    <tr>\n",
       "      <th>11</th>\n",
       "      <td>2000</td>\n",
       "      <td>26.8</td>\n",
       "      <td>25.1</td>\n",
       "    </tr>\n",
       "  </tbody>\n",
       "</table>\n",
       "</div>"
      ],
      "text/plain": [
       "    Year  Median Age Of Males  Median Age Of Females\n",
       "0   1890                 26.1                   22.0\n",
       "1   1900                 25.9                   21.9\n",
       "2   1910                 25.1                   21.6\n",
       "3   1920                 24.6                   21.2\n",
       "4   1930                 24.3                   21.3\n",
       "5   1940                 24.3                   21.5\n",
       "6   1950                 22.8                   20.3\n",
       "7   1960                 22.8                   20.3\n",
       "8   1970                 23.2                   20.8\n",
       "9   1980                 24.7                   22.0\n",
       "10  1990                 26.1                   23.9\n",
       "11  2000                 26.8                   25.1"
      ]
     },
     "execution_count": 2,
     "metadata": {},
     "output_type": "execute_result"
    }
   ],
   "source": [
    "ws1 = pd.read_csv('ws1.csv')\n",
    "ws1"
   ]
  },
  {
   "cell_type": "code",
   "execution_count": 3,
   "id": "548d7d3e",
   "metadata": {},
   "outputs": [
    {
     "name": "stdout",
     "output_type": "stream",
     "text": [
      "Male median age : Min = 22.8 and Max = 26.8\n",
      "Female median age : Min = 20.3 and Max = 25.1\n"
     ]
    }
   ],
   "source": [
    "# min max median age\n",
    "max_male = ws1['Median Age Of Males'].max()\n",
    "min_male = ws1['Median Age Of Males'].min()\n",
    "max_female = ws1['Median Age Of Females'].max()\n",
    "min_female = ws1['Median Age Of Females'].min()\n",
    "print(\"Male median age : Min = {} and Max = {}\".format(min_male, max_male))\n",
    "print(\"Female median age : Min = {} and Max = {}\".format(min_female, max_female))"
   ]
  },
  {
   "cell_type": "code",
   "execution_count": 4,
   "id": "28092ae8",
   "metadata": {
    "scrolled": false
   },
   "outputs": [
    {
     "data": {
      "text/html": [
       "<div>\n",
       "<style scoped>\n",
       "    .dataframe tbody tr th:only-of-type {\n",
       "        vertical-align: middle;\n",
       "    }\n",
       "\n",
       "    .dataframe tbody tr th {\n",
       "        vertical-align: top;\n",
       "    }\n",
       "\n",
       "    .dataframe thead th {\n",
       "        text-align: right;\n",
       "    }\n",
       "</style>\n",
       "<table border=\"1\" class=\"dataframe\">\n",
       "  <thead>\n",
       "    <tr style=\"text-align: right;\">\n",
       "      <th></th>\n",
       "      <th>Year</th>\n",
       "      <th>Median Age Of Males</th>\n",
       "      <th>Median Age Of Females</th>\n",
       "    </tr>\n",
       "  </thead>\n",
       "  <tbody>\n",
       "    <tr>\n",
       "      <th>count</th>\n",
       "      <td>12.000000</td>\n",
       "      <td>12.000000</td>\n",
       "      <td>12.000000</td>\n",
       "    </tr>\n",
       "    <tr>\n",
       "      <th>mean</th>\n",
       "      <td>1945.000000</td>\n",
       "      <td>24.725000</td>\n",
       "      <td>21.825000</td>\n",
       "    </tr>\n",
       "    <tr>\n",
       "      <th>std</th>\n",
       "      <td>36.055513</td>\n",
       "      <td>1.339013</td>\n",
       "      <td>1.402028</td>\n",
       "    </tr>\n",
       "    <tr>\n",
       "      <th>min</th>\n",
       "      <td>1890.000000</td>\n",
       "      <td>22.800000</td>\n",
       "      <td>20.300000</td>\n",
       "    </tr>\n",
       "    <tr>\n",
       "      <th>25%</th>\n",
       "      <td>1917.500000</td>\n",
       "      <td>24.025000</td>\n",
       "      <td>21.100000</td>\n",
       "    </tr>\n",
       "    <tr>\n",
       "      <th>50%</th>\n",
       "      <td>1945.000000</td>\n",
       "      <td>24.650000</td>\n",
       "      <td>21.550000</td>\n",
       "    </tr>\n",
       "    <tr>\n",
       "      <th>75%</th>\n",
       "      <td>1972.500000</td>\n",
       "      <td>25.950000</td>\n",
       "      <td>22.000000</td>\n",
       "    </tr>\n",
       "    <tr>\n",
       "      <th>max</th>\n",
       "      <td>2000.000000</td>\n",
       "      <td>26.800000</td>\n",
       "      <td>25.100000</td>\n",
       "    </tr>\n",
       "  </tbody>\n",
       "</table>\n",
       "</div>"
      ],
      "text/plain": [
       "              Year  Median Age Of Males  Median Age Of Females\n",
       "count    12.000000            12.000000              12.000000\n",
       "mean   1945.000000            24.725000              21.825000\n",
       "std      36.055513             1.339013               1.402028\n",
       "min    1890.000000            22.800000              20.300000\n",
       "25%    1917.500000            24.025000              21.100000\n",
       "50%    1945.000000            24.650000              21.550000\n",
       "75%    1972.500000            25.950000              22.000000\n",
       "max    2000.000000            26.800000              25.100000"
      ]
     },
     "execution_count": 4,
     "metadata": {},
     "output_type": "execute_result"
    }
   ],
   "source": [
    "# The range is a type of descriptive statistic that summarizes the data. It has been presented above in a numerical format. But if you need to look at the trend of the data, it may be better to graph or plot the data.\n",
    "ws1.describe()"
   ]
  },
  {
   "cell_type": "markdown",
   "id": "915a623f",
   "metadata": {},
   "source": [
    "Step 2: Plot the data."
   ]
  },
  {
   "cell_type": "code",
   "execution_count": 5,
   "id": "43469b11",
   "metadata": {
    "scrolled": true
   },
   "outputs": [
    {
     "data": {
      "image/png": "[encoded data removed]",
      "text/plain": [
       "<Figure size 1080x360 with 1 Axes>"
      ]
     },
     "metadata": {
      "needs_background": "light"
     },
     "output_type": "display_data"
    }
   ],
   "source": [
    "plt.rcParams['figure.figsize'] = (15,5)\n",
    "ws1[['Median Age Of Males', 'Median Age Of Females']].plot()\n",
    "plt.xticks(ws1.index,ws1['Year'].values)\n",
    "plt.show()\n",
    "\n"
   ]
  },
  {
   "cell_type": "markdown",
   "id": "1dfbab8b",
   "metadata": {},
   "source": [
    "Step 3: Perform simple data prediction."
   ]
  },
  {
   "cell_type": "code",
   "execution_count": 6,
   "id": "bfee0d5b",
   "metadata": {},
   "outputs": [
    {
     "name": "stdout",
     "output_type": "stream",
     "text": [
      "Median Males & Females Year 1900 = 25.9 & 21.9\n",
      "Median Males & Females Year 1920 = 24.6 & 21.2\n"
     ]
    }
   ],
   "source": [
    "# interpolate data di tahun 1920\n",
    "males = []\n",
    "females = []\n",
    "year = \"1920\"\n",
    "for a in range(ws1['Year'].count()):\n",
    "    males.append(ws1['Median Age Of Males'][a])\n",
    "    females.append(ws1['Median Age Of Females'][a])\n",
    "males_ip = np.interp(year,ws1['Year'], males)\n",
    "females_ip = np.interp(year,ws1['Year'], females)\n",
    "print(\"Median Males & Females Year 1900 = {} & {}\".format(males[1],females[1]))\n",
    "print(\"Median Males & Females Year {} = {} & {}\".format(year,males_ip,females_ip))"
   ]
  },
  {
   "cell_type": "code",
   "execution_count": 7,
   "id": "fc901367",
   "metadata": {},
   "outputs": [
    {
     "name": "stdout",
     "output_type": "stream",
     "text": [
      "Median Males & Females Year 2000 = 26.8 & 25.1\n",
      "Median Males & Females Year 2020 = 24.6 & 21.2\n"
     ]
    }
   ],
   "source": [
    "# prediksi median data di tahun 2020 extrapolation\n",
    "year =\"2020\"\n",
    "male_ip = interpolate.interp1d(ws1['Year'], males, fill_value='extrapolate')\n",
    "female_ip = interpolate.interp1d(ws1['Year'], females, fill_value='extrapolate')\n",
    "print(\"Median Males & Females Year 2000 = {} & {}\".format(males[11],females[11]))\n",
    "print(\"Median Males & Females Year {} = {} & {}\".format(year,males_ip,females_ip))"
   ]
  },
  {
   "cell_type": "code",
   "execution_count": 8,
   "id": "754ac2f0",
   "metadata": {
    "scrolled": true
   },
   "outputs": [
    {
     "data": {
      "text/html": [
       "<div>\n",
       "<style scoped>\n",
       "    .dataframe tbody tr th:only-of-type {\n",
       "        vertical-align: middle;\n",
       "    }\n",
       "\n",
       "    .dataframe tbody tr th {\n",
       "        vertical-align: top;\n",
       "    }\n",
       "\n",
       "    .dataframe thead th {\n",
       "        text-align: right;\n",
       "    }\n",
       "</style>\n",
       "<table border=\"1\" class=\"dataframe\">\n",
       "  <thead>\n",
       "    <tr style=\"text-align: right;\">\n",
       "      <th></th>\n",
       "      <th>Year</th>\n",
       "      <th>Median Age Of Males</th>\n",
       "      <th>Median Age Of Females</th>\n",
       "      <th>Difference</th>\n",
       "    </tr>\n",
       "  </thead>\n",
       "  <tbody>\n",
       "    <tr>\n",
       "      <th>0</th>\n",
       "      <td>1890</td>\n",
       "      <td>26.1</td>\n",
       "      <td>22.0</td>\n",
       "      <td>4.1</td>\n",
       "    </tr>\n",
       "    <tr>\n",
       "      <th>1</th>\n",
       "      <td>1900</td>\n",
       "      <td>25.9</td>\n",
       "      <td>21.9</td>\n",
       "      <td>4.0</td>\n",
       "    </tr>\n",
       "    <tr>\n",
       "      <th>2</th>\n",
       "      <td>1910</td>\n",
       "      <td>25.1</td>\n",
       "      <td>21.6</td>\n",
       "      <td>3.5</td>\n",
       "    </tr>\n",
       "    <tr>\n",
       "      <th>3</th>\n",
       "      <td>1920</td>\n",
       "      <td>24.6</td>\n",
       "      <td>21.2</td>\n",
       "      <td>3.4</td>\n",
       "    </tr>\n",
       "    <tr>\n",
       "      <th>4</th>\n",
       "      <td>1930</td>\n",
       "      <td>24.3</td>\n",
       "      <td>21.3</td>\n",
       "      <td>3.0</td>\n",
       "    </tr>\n",
       "    <tr>\n",
       "      <th>5</th>\n",
       "      <td>1940</td>\n",
       "      <td>24.3</td>\n",
       "      <td>21.5</td>\n",
       "      <td>2.8</td>\n",
       "    </tr>\n",
       "    <tr>\n",
       "      <th>6</th>\n",
       "      <td>1950</td>\n",
       "      <td>22.8</td>\n",
       "      <td>20.3</td>\n",
       "      <td>2.5</td>\n",
       "    </tr>\n",
       "    <tr>\n",
       "      <th>7</th>\n",
       "      <td>1960</td>\n",
       "      <td>22.8</td>\n",
       "      <td>20.3</td>\n",
       "      <td>2.5</td>\n",
       "    </tr>\n",
       "    <tr>\n",
       "      <th>8</th>\n",
       "      <td>1970</td>\n",
       "      <td>23.2</td>\n",
       "      <td>20.8</td>\n",
       "      <td>2.4</td>\n",
       "    </tr>\n",
       "    <tr>\n",
       "      <th>9</th>\n",
       "      <td>1980</td>\n",
       "      <td>24.7</td>\n",
       "      <td>22.0</td>\n",
       "      <td>2.7</td>\n",
       "    </tr>\n",
       "    <tr>\n",
       "      <th>10</th>\n",
       "      <td>1990</td>\n",
       "      <td>26.1</td>\n",
       "      <td>23.9</td>\n",
       "      <td>2.2</td>\n",
       "    </tr>\n",
       "    <tr>\n",
       "      <th>11</th>\n",
       "      <td>2000</td>\n",
       "      <td>26.8</td>\n",
       "      <td>25.1</td>\n",
       "      <td>1.7</td>\n",
       "    </tr>\n",
       "  </tbody>\n",
       "</table>\n",
       "</div>"
      ],
      "text/plain": [
       "    Year  Median Age Of Males  Median Age Of Females  Difference\n",
       "0   1890                 26.1                   22.0         4.1\n",
       "1   1900                 25.9                   21.9         4.0\n",
       "2   1910                 25.1                   21.6         3.5\n",
       "3   1920                 24.6                   21.2         3.4\n",
       "4   1930                 24.3                   21.3         3.0\n",
       "5   1940                 24.3                   21.5         2.8\n",
       "6   1950                 22.8                   20.3         2.5\n",
       "7   1960                 22.8                   20.3         2.5\n",
       "8   1970                 23.2                   20.8         2.4\n",
       "9   1980                 24.7                   22.0         2.7\n",
       "10  1990                 26.1                   23.9         2.2\n",
       "11  2000                 26.8                   25.1         1.7"
      ]
     },
     "execution_count": 8,
     "metadata": {},
     "output_type": "execute_result"
    }
   ],
   "source": [
    "range_age = []\n",
    "for i in range(ws1['Year'].count()):\n",
    "    range_age.append(ws1['Median Age Of Males'][i] - ws1['Median Age Of Females'][i])\n",
    "range_ages ={'Year':ws1['Year'],'Difference Age':range_age}\n",
    "range_ages = pd.DataFrame(range_ages)\n",
    "diff_age = ws1.assign(Difference = range_age)\n",
    "diff_age\n"
   ]
  },
  {
   "cell_type": "markdown",
   "id": "45e450f4",
   "metadata": {},
   "source": [
    "# Part 2: Plot data and Predict Values"
   ]
  },
  {
   "cell_type": "code",
   "execution_count": 9,
   "id": "653bcbdb",
   "metadata": {},
   "outputs": [
    {
     "data": {
      "text/html": [
       "<div>\n",
       "<style scoped>\n",
       "    .dataframe tbody tr th:only-of-type {\n",
       "        vertical-align: middle;\n",
       "    }\n",
       "\n",
       "    .dataframe tbody tr th {\n",
       "        vertical-align: top;\n",
       "    }\n",
       "\n",
       "    .dataframe thead th {\n",
       "        text-align: right;\n",
       "    }\n",
       "</style>\n",
       "<table border=\"1\" class=\"dataframe\">\n",
       "  <thead>\n",
       "    <tr style=\"text-align: right;\">\n",
       "      <th></th>\n",
       "      <th>Year</th>\n",
       "      <th>Men hours housework week</th>\n",
       "      <th>Woman hours housework week</th>\n",
       "    </tr>\n",
       "  </thead>\n",
       "  <tbody>\n",
       "    <tr>\n",
       "      <th>0</th>\n",
       "      <td>1965</td>\n",
       "      <td>4.4</td>\n",
       "      <td>31.9</td>\n",
       "    </tr>\n",
       "    <tr>\n",
       "      <th>1</th>\n",
       "      <td>1975</td>\n",
       "      <td>6.0</td>\n",
       "      <td>23.6</td>\n",
       "    </tr>\n",
       "    <tr>\n",
       "      <th>2</th>\n",
       "      <td>1985</td>\n",
       "      <td>10.2</td>\n",
       "      <td>20.7</td>\n",
       "    </tr>\n",
       "    <tr>\n",
       "      <th>3</th>\n",
       "      <td>1995</td>\n",
       "      <td>10.2</td>\n",
       "      <td>18.9</td>\n",
       "    </tr>\n",
       "    <tr>\n",
       "      <th>4</th>\n",
       "      <td>2000</td>\n",
       "      <td>10.0</td>\n",
       "      <td>18.6</td>\n",
       "    </tr>\n",
       "    <tr>\n",
       "      <th>5</th>\n",
       "      <td>2005</td>\n",
       "      <td>9.2</td>\n",
       "      <td>19.1</td>\n",
       "    </tr>\n",
       "    <tr>\n",
       "      <th>6</th>\n",
       "      <td>2010</td>\n",
       "      <td>10.0</td>\n",
       "      <td>17.4</td>\n",
       "    </tr>\n",
       "    <tr>\n",
       "      <th>7</th>\n",
       "      <td>2015</td>\n",
       "      <td>9.8</td>\n",
       "      <td>17.8</td>\n",
       "    </tr>\n",
       "  </tbody>\n",
       "</table>\n",
       "</div>"
      ],
      "text/plain": [
       "   Year  Men hours housework week  Woman hours housework week\n",
       "0  1965                       4.4                        31.9\n",
       "1  1975                       6.0                        23.6\n",
       "2  1985                      10.2                        20.7\n",
       "3  1995                      10.2                        18.9\n",
       "4  2000                      10.0                        18.6\n",
       "5  2005                       9.2                        19.1\n",
       "6  2010                      10.0                        17.4\n",
       "7  2015                       9.8                        17.8"
      ]
     },
     "execution_count": 9,
     "metadata": {},
     "output_type": "execute_result"
    }
   ],
   "source": [
    "ws2= pd.read_csv('ws2.csv')\n",
    "ws2"
   ]
  },
  {
   "cell_type": "code",
   "execution_count": 10,
   "id": "90b10323",
   "metadata": {},
   "outputs": [
    {
     "data": {
      "image/png": "[encoded data removed]",
      "text/plain": [
       "<Figure size 720x360 with 1 Axes>"
      ]
     },
     "metadata": {
      "needs_background": "light"
     },
     "output_type": "display_data"
    }
   ],
   "source": [
    "# plot data\n",
    "plt.rcParams['figure.figsize'] = (10,5)\n",
    "ws2[['Men hours housework week','Woman hours housework week']].plot()\n",
    "plt.xticks(ws2.index, ws2['Year'].values)\n",
    "plt.show()"
   ]
  },
  {
   "cell_type": "code",
   "execution_count": 11,
   "id": "426eed88",
   "metadata": {},
   "outputs": [],
   "source": [
    "# interpolate missing year\n",
    "men = []\n",
    "woman= []\n",
    "miss_year = ['1970','1980','1990','2020']\n",
    "miss_val_men=[]\n",
    "miss_val_woman=[]\n",
    "for i in range (ws2['Year'].count()):\n",
    "    men.append(ws2['Men hours housework week'][i])\n",
    "    woman.append(ws2['Woman hours housework week'][i])\n",
    "for i in range(len(miss_year)):\n",
    "    miss_val_men.append(np.interp(miss_year[i],ws2['Year'],men))\n",
    "    miss_val_woman.append(np.interp(miss_year[i],ws2['Year'],woman))"
   ]
  },
  {
   "cell_type": "code",
   "execution_count": 12,
   "id": "9ce8d0a9",
   "metadata": {},
   "outputs": [
    {
     "data": {
      "text/html": [
       "<div>\n",
       "<style scoped>\n",
       "    .dataframe tbody tr th:only-of-type {\n",
       "        vertical-align: middle;\n",
       "    }\n",
       "\n",
       "    .dataframe tbody tr th {\n",
       "        vertical-align: top;\n",
       "    }\n",
       "\n",
       "    .dataframe thead th {\n",
       "        text-align: right;\n",
       "    }\n",
       "</style>\n",
       "<table border=\"1\" class=\"dataframe\">\n",
       "  <thead>\n",
       "    <tr style=\"text-align: right;\">\n",
       "      <th></th>\n",
       "      <th>Year</th>\n",
       "      <th>Men hours housework week</th>\n",
       "      <th>Woman hours housework week</th>\n",
       "    </tr>\n",
       "  </thead>\n",
       "  <tbody>\n",
       "    <tr>\n",
       "      <th>0</th>\n",
       "      <td>1970</td>\n",
       "      <td>5.2</td>\n",
       "      <td>27.75</td>\n",
       "    </tr>\n",
       "    <tr>\n",
       "      <th>1</th>\n",
       "      <td>1980</td>\n",
       "      <td>8.1</td>\n",
       "      <td>22.15</td>\n",
       "    </tr>\n",
       "    <tr>\n",
       "      <th>2</th>\n",
       "      <td>1990</td>\n",
       "      <td>10.2</td>\n",
       "      <td>19.80</td>\n",
       "    </tr>\n",
       "    <tr>\n",
       "      <th>3</th>\n",
       "      <td>2020</td>\n",
       "      <td>9.8</td>\n",
       "      <td>17.80</td>\n",
       "    </tr>\n",
       "  </tbody>\n",
       "</table>\n",
       "</div>"
      ],
      "text/plain": [
       "   Year  Men hours housework week  Woman hours housework week\n",
       "0  1970                       5.2                       27.75\n",
       "1  1980                       8.1                       22.15\n",
       "2  1990                      10.2                       19.80\n",
       "3  2020                       9.8                       17.80"
      ]
     },
     "execution_count": 12,
     "metadata": {},
     "output_type": "execute_result"
    }
   ],
   "source": [
    "predict={'Year':miss_year,'Men hours housework week':miss_val_men,'Woman hours housework week':miss_val_woman}\n",
    "predict_miss_year = pd.DataFrame(predict)\n",
    "predict_miss_year"
   ]
  },
  {
   "cell_type": "code",
   "execution_count": 13,
   "id": "ca298bd0",
   "metadata": {},
   "outputs": [
    {
     "name": "stdout",
     "output_type": "stream",
     "text": [
      "Work Men & Women Year 2015 = 9.8 & 17.8\n",
      "Work Men & Women Year 2020 = 9.60 & 18.20\n"
     ]
    }
   ],
   "source": [
    "# extrapolate untuk tahun 2020\n",
    "men_work = interpolate.interp1d(ws2['Year'], men, fill_value='extrapolate')\n",
    "woman_work = interpolate.interp1d(ws2['Year'], woman, fill_value='extrapolate')\n",
    "year =\"2020\"\n",
    "print(\"Work Men & Women Year 2015 = {} & {}\".format(men[7],woman[7]))\n",
    "print(\"Work Men & Women Year {} = {:.2f} & {:.2f}\".format(year,men_work(year),woman_work(year)))"
   ]
  },
  {
   "cell_type": "code",
   "execution_count": 14,
   "id": "c5804223",
   "metadata": {},
   "outputs": [
    {
     "data": {
      "text/html": [
       "<div>\n",
       "<style scoped>\n",
       "    .dataframe tbody tr th:only-of-type {\n",
       "        vertical-align: middle;\n",
       "    }\n",
       "\n",
       "    .dataframe tbody tr th {\n",
       "        vertical-align: top;\n",
       "    }\n",
       "\n",
       "    .dataframe thead th {\n",
       "        text-align: right;\n",
       "    }\n",
       "</style>\n",
       "<table border=\"1\" class=\"dataframe\">\n",
       "  <thead>\n",
       "    <tr style=\"text-align: right;\">\n",
       "      <th></th>\n",
       "      <th>Year</th>\n",
       "      <th>Men hours housework week</th>\n",
       "      <th>Woman hours housework week</th>\n",
       "      <th>Difference</th>\n",
       "    </tr>\n",
       "  </thead>\n",
       "  <tbody>\n",
       "    <tr>\n",
       "      <th>0</th>\n",
       "      <td>1965</td>\n",
       "      <td>4.4</td>\n",
       "      <td>31.9</td>\n",
       "      <td>27.5</td>\n",
       "    </tr>\n",
       "    <tr>\n",
       "      <th>1</th>\n",
       "      <td>1975</td>\n",
       "      <td>6.0</td>\n",
       "      <td>23.6</td>\n",
       "      <td>17.6</td>\n",
       "    </tr>\n",
       "    <tr>\n",
       "      <th>2</th>\n",
       "      <td>1985</td>\n",
       "      <td>10.2</td>\n",
       "      <td>20.7</td>\n",
       "      <td>10.5</td>\n",
       "    </tr>\n",
       "    <tr>\n",
       "      <th>3</th>\n",
       "      <td>1995</td>\n",
       "      <td>10.2</td>\n",
       "      <td>18.9</td>\n",
       "      <td>8.7</td>\n",
       "    </tr>\n",
       "    <tr>\n",
       "      <th>4</th>\n",
       "      <td>2000</td>\n",
       "      <td>10.0</td>\n",
       "      <td>18.6</td>\n",
       "      <td>8.6</td>\n",
       "    </tr>\n",
       "    <tr>\n",
       "      <th>5</th>\n",
       "      <td>2005</td>\n",
       "      <td>9.2</td>\n",
       "      <td>19.1</td>\n",
       "      <td>9.9</td>\n",
       "    </tr>\n",
       "    <tr>\n",
       "      <th>6</th>\n",
       "      <td>2010</td>\n",
       "      <td>10.0</td>\n",
       "      <td>17.4</td>\n",
       "      <td>7.4</td>\n",
       "    </tr>\n",
       "    <tr>\n",
       "      <th>7</th>\n",
       "      <td>2015</td>\n",
       "      <td>9.8</td>\n",
       "      <td>17.8</td>\n",
       "      <td>8.0</td>\n",
       "    </tr>\n",
       "  </tbody>\n",
       "</table>\n",
       "</div>"
      ],
      "text/plain": [
       "   Year  Men hours housework week  Woman hours housework week  Difference\n",
       "0  1965                       4.4                        31.9        27.5\n",
       "1  1975                       6.0                        23.6        17.6\n",
       "2  1985                      10.2                        20.7        10.5\n",
       "3  1995                      10.2                        18.9         8.7\n",
       "4  2000                      10.0                        18.6         8.6\n",
       "5  2005                       9.2                        19.1         9.9\n",
       "6  2010                      10.0                        17.4         7.4\n",
       "7  2015                       9.8                        17.8         8.0"
      ]
     },
     "execution_count": 14,
     "metadata": {},
     "output_type": "execute_result"
    }
   ],
   "source": [
    "# gap women hours & men hours\n",
    "range_work = []\n",
    "for i in range(ws2['Year'].count()):\n",
    "    range_work.append(ws2['Woman hours housework week'][i]-ws2['Men hours housework week'][i] )\n",
    "range_works ={'Year':ws2['Year'],'Difference Works':range_work}\n",
    "range_works = pd.DataFrame(range_works)\n",
    "diff_work = ws2.assign(Difference = range_work)\n",
    "diff_work"
   ]
  },
  {
   "cell_type": "code",
   "execution_count": null,
   "id": "197f4c1d",
   "metadata": {},
   "outputs": [],
   "source": []
  }
 ],
 "metadata": {
  "kernelspec": {
   "display_name": "Python 3",
   "language": "python",
   "name": "python3"
  },
  "language_info": {
   "codemirror_mode": {
    "name": "ipython",
    "version": 3
   },
   "file_extension": ".py",
   "mimetype": "text/x-python",
   "name": "python",
   "nbconvert_exporter": "python",
   "pygments_lexer": "ipython3",
   "version": "3.8.8"
  }
 },
 "nbformat": 4,
 "nbformat_minor": 5
}
